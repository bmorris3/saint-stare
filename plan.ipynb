{
 "cells": [
  {
   "cell_type": "code",
   "execution_count": 1,
   "metadata": {},
   "outputs": [],
   "source": [
    "%matplotlib inline\n",
    "import matplotlib.pyplot as plt\n",
    "import numpy as np\n",
    "from astropy.table import Table\n",
    "import astropy.units as u"
   ]
  },
  {
   "cell_type": "code",
   "execution_count": 2,
   "metadata": {},
   "outputs": [],
   "source": [
    "table = Table.read('data/target_list_saintex_sel.csv', delimiter=';')"
   ]
  },
  {
   "cell_type": "code",
   "execution_count": 95,
   "metadata": {},
   "outputs": [],
   "source": [
    "np.random.seed(1984)\n",
    "\n",
    "# Fraction that have planets: 100%\n",
    "table['inclination'] = 90 * np.random.rand(len(table))\n",
    "table['period'] = 1.6 * u.day\n",
    "table['epoch'] = 1000 * np.random.rand() + Time('2020-01-01').jd"
   ]
  },
  {
   "cell_type": "code",
   "execution_count": 96,
   "metadata": {},
   "outputs": [],
   "source": [
    "target = table[table['spc'] == \"Sp1428+3310\"]"
   ]
  },
  {
   "cell_type": "code",
   "execution_count": 162,
   "metadata": {},
   "outputs": [],
   "source": [
    "target_jmag = target['jmag'].data[0]"
   ]
  },
  {
   "cell_type": "code",
   "execution_count": 166,
   "metadata": {},
   "outputs": [],
   "source": [
    "# plt.subplot(111, projection=\"mollweide\")\n",
    "# n_points = 100\n",
    "# # [-pi, pi], [pi/2, pi/2]?\n",
    "# # plt.scatter(2 * np.pi * (np.random.rand(n_points) - 0.5), np.pi*(np.random.rand(n_points) - 0.5))\n",
    "# plt.scatter(np.radians(table['ra_deg']) - np.pi, np.radians(table['dec_deg']))"
   ]
  },
  {
   "cell_type": "code",
   "execution_count": 99,
   "metadata": {},
   "outputs": [],
   "source": [
    "import astropy.units as u\n",
    "from astropy.coordinates import SkyCoord, EarthLocation\n",
    "from astroplan import Observer, FixedTarget, AirmassConstraint, AtNightConstraint, is_observable\n",
    "from astropy.time import Time\n",
    "\n",
    "times = Time('2020-01-01') + np.arange(0, 365, 10/60/24)*u.day\n",
    "\n",
    "coords = SkyCoord(ra=table['ra_deg']*u.deg, dec=table['dec_deg']*u.deg)\n",
    "\n",
    "targets = [FixedTarget(coord=c, name=name) for c, name in zip(coords, table['spc'])]\n",
    "\n",
    "loc = EarthLocation.from_geodetic(-115.5681*u.deg, 30.8669*u.deg, height=1000*u.m)\n",
    "\n",
    "saintex = Observer(location=loc)"
   ]
  },
  {
   "cell_type": "code",
   "execution_count": 106,
   "metadata": {},
   "outputs": [],
   "source": [
    "from glob import glob\n",
    "lc_paths = glob('data/npy/*.npy')"
   ]
  },
  {
   "cell_type": "code",
   "execution_count": 126,
   "metadata": {},
   "outputs": [],
   "source": [
    "real_lcs = [np.load(p) for p in lc_paths]"
   ]
  },
  {
   "cell_type": "markdown",
   "metadata": {},
   "source": [
    "# Two-hour each strategy: "
   ]
  },
  {
   "cell_type": "code",
   "execution_count": 102,
   "metadata": {},
   "outputs": [],
   "source": [
    "from batman import TransitModel, TransitParams\n",
    "from astropy.constants import R_earth, R_sun, M_sun, G\n",
    "\n",
    "M_star = 0.1 * M_sun\n",
    "R_star = 0.12 * R_sun\n",
    "params = TransitParams()\n",
    "params.per = 1.6\n",
    "params.rp = float(R_earth/R_star)\n",
    "params.limb_dark = 'quadratic'\n",
    "params.u = [1.0, 0.0]  # Luger 2017\n",
    "params.w = 90\n",
    "params.ecc = 0\n",
    "params.a = float(((G*M_star*(params.per*u.day)**2)/(4*np.pi**2))**(1/3) / R_star)"
   ]
  },
  {
   "cell_type": "code",
   "execution_count": 173,
   "metadata": {},
   "outputs": [
    {
     "name": "stdout",
     "output_type": "stream",
     "text": [
      "1\n"
     ]
    }
   ],
   "source": [
    "from astroplan import time_grid_from_range, observability_table\n",
    "\n",
    "n_objects_per_night = 5\n",
    "airmass_cutoff = 3.5\n",
    "fraction_cloudy = 0.3\n",
    "n_years = 2\n",
    "n_trials = 10\n",
    "\n",
    "constraints = [AtNightConstraint.twilight_nautical(), \n",
    "               AirmassConstraint(max=airmass_cutoff)]\n",
    "\n",
    "start_time = Time('2020-01-01 08:00')  # near local midnight\n",
    "end_time = Time('2021-01-01 08:00') # near local midnight\n",
    "\n",
    "n_transits = []\n",
    "\n",
    "target_inds_observed = set([])\n",
    "\n",
    "obs_database = {name: dict(times=[], fluxes=[], model=[], transit=False) for name in table['spc']}\n",
    "\n",
    "for i in range(n_years*365): \n",
    "    # Simulate weather losses\n",
    "    if np.random.rand() > fraction_cloudy: \n",
    "        time = start_time + i*u.day\n",
    "        night_start = saintex.twilight_evening_nautical(time, which='previous')\n",
    "        night_end = saintex.twilight_morning_nautical(time, which='next')\n",
    "        night_duration = night_end - night_start\n",
    "\n",
    "        times = time_grid_from_range((night_start, night_end), time_resolution=1.6*u.min)\n",
    "\n",
    "        obs_table = observability_table(constraints, saintex, targets, times=times)\n",
    "\n",
    "        mask_targets_visible_2hrs = obs_table['fraction of time observable']*night_duration > 2*u.hr\n",
    "\n",
    "        object_inds_to_observe = np.random.choice(np.argwhere(mask_targets_visible_2hrs)[:, 0], size=n_objects_per_night)\n",
    "\n",
    "        target_inds_observed.update(object_inds_to_observe)\n",
    "\n",
    "        # Split the night evenly into N chunks\n",
    "        try: \n",
    "            split_times = np.split(times, n_objects_per_night)\n",
    "        except ValueError: \n",
    "            split_times = np.split(times[len(times)%n_objects_per_night:], n_objects_per_night)\n",
    "\n",
    "        for i, ind in enumerate(object_inds_to_observe):\n",
    "            obs_times = split_times[i].jd\n",
    "            target_name = table['spc'][ind]\n",
    "            params.inc = table['inclination'][ind]\n",
    "            params.t0 = table['epoch'][ind]\n",
    "            transit_model = TransitModel(params, obs_times).light_curve(params)\n",
    "\n",
    "            # Only save LCs containing transits\n",
    "            if transit_model.min() < 1:\n",
    "                random_night = np.random.randint(0, len(real_lcs))\n",
    "                obs_fluxes = transit_model * real_lcs[random_night][:len(obs_times), 1]\n",
    "\n",
    "                obs_database[target_name]['times'].append(obs_times)\n",
    "                obs_database[target_name]['fluxes'].append(obs_fluxes)\n",
    "                obs_database[target_name]['model'].append(transit_model)\n",
    "                obs_database[target_name]['transit'] = True\n",
    "\n",
    "N_transits = 0\n",
    "for key in obs_database: \n",
    "    if obs_database[key]['transit']:\n",
    "        for chunk in range(len(obs_database[key]['times'])):\n",
    "            N_transits += 1\n",
    "print(N_transits)"
   ]
  },
  {
   "cell_type": "code",
   "execution_count": null,
   "metadata": {},
   "outputs": [],
   "source": [
    "# for key in obs_database: \n",
    "#     if obs_database[key]['transit']:\n",
    "#         print(key)\n",
    "#         for chunk in range(len(obs_database[key]['times'])):\n",
    "#             plt.plot(obs_database[key]['times'][chunk], obs_database[key]['fluxes'][chunk], '.')\n",
    "#             plt.plot(obs_database[key]['times'][chunk], obs_database[key]['model'][chunk])\n",
    "#             plt.show()"
   ]
  },
  {
   "cell_type": "code",
   "execution_count": 174,
   "metadata": {},
   "outputs": [
    {
     "data": {
      "image/png": "[encoded data removed]",
      "text/plain": [
       "<Figure size 432x288 with 1 Axes>"
      ]
     },
     "metadata": {
      "needs_background": "light"
     },
     "output_type": "display_data"
    }
   ],
   "source": [
    "plt.hist(n_transits);"
   ]
  },
  {
   "cell_type": "code",
   "execution_count": 175,
   "metadata": {},
   "outputs": [
    {
     "data": {
      "text/plain": [
       "[]"
      ]
     },
     "execution_count": 175,
     "metadata": {},
     "output_type": "execute_result"
    }
   ],
   "source": [
    "n_transits"
   ]
  },
  {
   "cell_type": "code",
   "execution_count": 178,
   "metadata": {},
   "outputs": [],
   "source": [
    "np.save('data/sim_obs/{0}.npy'.format(str(Time.now().datetime.time())), n_transits)"
   ]
  },
  {
   "cell_type": "code",
   "execution_count": 181,
   "metadata": {},
   "outputs": [],
   "source": [
    "from subprocess import Popen\n",
    "\n",
    "n_threads = 8\n",
    "for i in range(n_threads): \n",
    "    Popen(['python', 'plan.py'], cwd='/Users/bmmorris/git/saint-stare/')"
   ]
  },
  {
   "cell_type": "code",
   "execution_count": null,
   "metadata": {},
   "outputs": [],
   "source": []
  }
 ],
 "metadata": {
  "kernelspec": {
   "display_name": "Python 3",
   "language": "python",
   "name": "python3"
  },
  "language_info": {
   "codemirror_mode": {
    "name": "ipython",
    "version": 3
   },
   "file_extension": ".py",
   "mimetype": "text/x-python",
   "name": "python",
   "nbconvert_exporter": "python",
   "pygments_lexer": "ipython3",
   "version": "3.5.4"
  }
 },
 "nbformat": 4,
 "nbformat_minor": 2
}
