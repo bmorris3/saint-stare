{
 "cells": [
  {
   "cell_type": "code",
   "execution_count": 48,
   "metadata": {},
   "outputs": [],
   "source": [
    "from subprocess import Popen\n",
    "import numpy as np\n",
    "\n",
    "n_objects = np.arange(2, 10, 2)\n",
    "\n",
    "for i in range(len(n_objects)): \n",
    "    \n",
    "    Popen(['python', 'plan_batch.py', str(n_objects[i])], cwd='/Users/bmmorris/git/saint-stare/')"
   ]
  },
  {
   "cell_type": "code",
   "execution_count": 59,
   "metadata": {},
   "outputs": [
    {
     "data": {
      "image/png": "[encoded data removed]",
      "text/plain": [
       "<Figure size 288x216 with 1 Axes>"
      ]
     },
     "metadata": {
      "needs_background": "light"
     },
     "output_type": "display_data"
    }
   ],
   "source": [
    "%matplotlib inline\n",
    "import matplotlib.pyplot as plt\n",
    "from glob import glob\n",
    "import numpy as np\n",
    "plt.figure(figsize=(4, 3))\n",
    "for i, n_targets in enumerate(np.arange(2, 10, 2)): \n",
    "    paths = glob('data/sim_obs/batch2/{0}_*'.format(n_targets))\n",
    "    \n",
    "    ntransits = []\n",
    "    for path in paths: \n",
    "        ntransits.extend(np.load(path))\n",
    "        \n",
    "    n = plt.hist(ntransits, bins=12, histtype='step', lw=2, color='C{0}'.format(i),\n",
    "                 range=[0, 12], label=n_targets)[0]\n",
    "#     plt.axvline(np.mean(ntransits), color='C{0}'.format(i), lw=2)\n",
    "    \n",
    "lam = np.linspace(0, 12)\n",
    "\n",
    "pattern = [None, '-', ':']\n",
    "for k in range(1, 2):\n",
    "    poisson = np.exp(-lam)*lam**k / np.math.factorial(k)\n",
    "    plt.plot(lam, poisson * n.max()/poisson.max(), 'k', ls=pattern[k], label='$k = {0}$'.format(k))\n",
    "plt.xlabel('Number of planets detected')\n",
    "plt.ylabel('Frequency')\n",
    "plt.legend()\n",
    "\n",
    "for s in ['right', 'top']: \n",
    "    plt.gca().spines[s].set_visible(False)\n",
    "\n",
    "plt.savefig('plots/planet_counts.pdf', bbox_inches='tight')"
   ]
  },
  {
   "cell_type": "code",
   "execution_count": null,
   "metadata": {},
   "outputs": [],
   "source": []
  }
 ],
 "metadata": {
  "kernelspec": {
   "display_name": "Python 3",
   "language": "python",
   "name": "python3"
  },
  "language_info": {
   "codemirror_mode": {
    "name": "ipython",
    "version": 3
   },
   "file_extension": ".py",
   "mimetype": "text/x-python",
   "name": "python",
   "nbconvert_exporter": "python",
   "pygments_lexer": "ipython3",
   "version": "3.5.4"
  }
 },
 "nbformat": 4,
 "nbformat_minor": 2
}
